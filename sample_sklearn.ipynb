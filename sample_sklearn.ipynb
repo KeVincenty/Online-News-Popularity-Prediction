{
  "nbformat": 4,
  "nbformat_minor": 0,
  "metadata": {
    "kernelspec": {
      "display_name": "Python 3",
      "language": "python",
      "name": "python3"
    },
    "language_info": {
      "codemirror_mode": {
        "name": "ipython",
        "version": 3
      },
      "file_extension": ".py",
      "mimetype": "text/x-python",
      "name": "python",
      "nbconvert_exporter": "python",
      "pygments_lexer": "ipython3",
      "version": "3.6.2"
    },
    "colab": {
      "name": "sample_sklearn.ipynb",
      "provenance": [],
      "collapsed_sections": []
    }
  },
  "cells": [
    {
      "cell_type": "code",
      "metadata": {
        "id": "RRTRSiPb467j"
      },
      "source": [
        "import numpy as np\n",
        "from sklearn.linear_model import Ridge\n",
        "import pandas as pd"
      ],
      "execution_count": null,
      "outputs": []
    },
    {
      "cell_type": "markdown",
      "metadata": {
        "id": "RSkUG2CA5IrL"
      },
      "source": [
        "Mount your Google Drive. In this notebook, we assume that 'report1' folder is placed directly under 'My Drive'."
      ]
    },
    {
      "cell_type": "code",
      "metadata": {
        "id": "56CkXhQu5Pe4"
      },
      "source": [
        "from google.colab import drive\n",
        "drive.mount('/content/drive')"
      ],
      "execution_count": null,
      "outputs": []
    },
    {
      "cell_type": "code",
      "metadata": {
        "id": "BD2mdnv55iw4"
      },
      "source": [
        "!ls /content/drive/My\\ Drive  #You should be able to see 'report1' folder by running this."
      ],
      "execution_count": null,
      "outputs": []
    },
    {
      "cell_type": "code",
      "metadata": {
        "id": "sSZdc1Aj467p"
      },
      "source": [
        "root_dir=\"/content/drive/My Drive/report1/\"\n",
        "N = 20000\n",
        "\n",
        "train_data = pd.read_csv(root_dir+\"train.csv\")\n",
        "test_data = pd.read_csv(root_dir+\"test.csv\")\n",
        "\n",
        "train_data = train_data.drop(['url'], axis=1) #remove 'url' information.\n",
        "train_data = train_data.drop(['timedelta'], axis=1) #remove 'url' information.\n",
        "X = np.matrix(train_data.drop(['shares'], axis=1)) \n",
        "y = np.matrix(train_data['shares']) #This is the target\n",
        "XTrain = X[:N,:] #use the first N samples for training. Be careful that most of the data processing libraries assumes row-wise data!\n",
        "yTrain = y[:,:N].T\n",
        "XVal = X[N:,:] #use the rests for validation\n",
        "yVal = y[:,N:].T\n",
        "\n",
        "XTest = np.matrix(test_data) #final testing data"
      ],
      "execution_count": null,
      "outputs": []
    },
    {
      "cell_type": "markdown",
      "metadata": {
        "id": "4m7dAWcr54aO"
      },
      "source": [
        "Run Ridge regression."
      ]
    },
    {
      "cell_type": "code",
      "metadata": {
        "id": "NMNkYM1p467v"
      },
      "source": [
        "reg = Ridge(alpha=10.0).fit(XTrain, yTrain)   #alpha: regularization strength"
      ],
      "execution_count": null,
      "outputs": []
    },
    {
      "cell_type": "markdown",
      "metadata": {
        "id": "tJYNZ-u7595p"
      },
      "source": [
        "Evaluate training and validation errors."
      ]
    },
    {
      "cell_type": "code",
      "metadata": {
        "id": "Xum8f8Nu467y"
      },
      "source": [
        "def MABS(vec1, vec2):\n",
        "    return np.mean(np.abs(vec1 - vec2))\n",
        "\n",
        "yHatTrain = reg.predict(XTrain)\n",
        "yHatVal = reg.predict(XVal)\n",
        "print(\"Training error \", MABS(yTrain, yHatTrain.T))\n",
        "print(\"Validation error \", MABS(yVal, yHatVal.T))"
      ],
      "execution_count": null,
      "outputs": []
    },
    {
      "cell_type": "markdown",
      "metadata": {
        "id": "4eJ2XsU56CwN"
      },
      "source": [
        "Now, project the testing data. You can upload 'result.txt' to the evaluation server."
      ]
    },
    {
      "cell_type": "code",
      "metadata": {
        "id": "yOcWlWAn4672"
      },
      "source": [
        "yHatTest = reg.predict(XTest)\n",
        "np.savetxt(root_dir+'result.txt', yHatTest) #save predictions in rows"
      ],
      "execution_count": null,
      "outputs": []
    },
    {
      "cell_type": "code",
      "metadata": {
        "id": "0PxhgY6Mo9_g"
      },
      "source": [
        ""
      ],
      "execution_count": null,
      "outputs": []
    }
  ]
}